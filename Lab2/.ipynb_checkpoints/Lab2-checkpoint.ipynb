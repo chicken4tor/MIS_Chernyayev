{
 "cells": [
  {
   "cell_type": "markdown",
   "id": "c6e0564d",
   "metadata": {},
   "source": [
    "Черняєв Андрій ІПС-42 варіант 11"
   ]
  },
  {
   "cell_type": "markdown",
   "id": "25079457",
   "metadata": {},
   "source": [
    "![](tasks/1.png)"
   ]
  },
  {
   "cell_type": "code",
   "execution_count": 3,
   "id": "c93114ab",
   "metadata": {},
   "outputs": [],
   "source": [
    "import time\n",
    "\n",
    "def task_1a():\n",
    "    try:\n",
    "        n = int(input(\"Введіть число n: \"))\n",
    "        \n",
    "        start_time = time.time()\n",
    "        \n",
    "        matrix = [[0 for _ in range(n)] for _ in range(n)]\n",
    "\n",
    "        for i in range(n):\n",
    "            matrix[i][i] = i + 1\n",
    "\n",
    "        for row in matrix:\n",
    "            print(row)\n",
    "        \n",
    "        end_time = time.time()\n",
    "        \n",
    "        execution_time = end_time - start_time\n",
    "        print(f\"Час виконання: {execution_time:.6f} секунд\")\n",
    "\n",
    "    except ValueError:\n",
    "        print(\"Помилка введення. Будь ласка, введіть ціле число.\")"
   ]
  },
  {
   "cell_type": "code",
   "execution_count": 6,
   "id": "c801af3c",
   "metadata": {},
   "outputs": [
    {
     "name": "stdout",
     "output_type": "stream",
     "text": [
      "Введіть число n: 12\n",
      "[1, 0, 0, 0, 0, 0, 0, 0, 0, 0, 0, 0]\n",
      "[0, 2, 0, 0, 0, 0, 0, 0, 0, 0, 0, 0]\n",
      "[0, 0, 3, 0, 0, 0, 0, 0, 0, 0, 0, 0]\n",
      "[0, 0, 0, 4, 0, 0, 0, 0, 0, 0, 0, 0]\n",
      "[0, 0, 0, 0, 5, 0, 0, 0, 0, 0, 0, 0]\n",
      "[0, 0, 0, 0, 0, 6, 0, 0, 0, 0, 0, 0]\n",
      "[0, 0, 0, 0, 0, 0, 7, 0, 0, 0, 0, 0]\n",
      "[0, 0, 0, 0, 0, 0, 0, 8, 0, 0, 0, 0]\n",
      "[0, 0, 0, 0, 0, 0, 0, 0, 9, 0, 0, 0]\n",
      "[0, 0, 0, 0, 0, 0, 0, 0, 0, 10, 0, 0]\n",
      "[0, 0, 0, 0, 0, 0, 0, 0, 0, 0, 11, 0]\n",
      "[0, 0, 0, 0, 0, 0, 0, 0, 0, 0, 0, 12]\n",
      "Час виконання: 0.000000 секунд\n"
     ]
    }
   ],
   "source": [
    "task_1a()"
   ]
  },
  {
   "cell_type": "code",
   "execution_count": 9,
   "id": "c492ed38",
   "metadata": {},
   "outputs": [],
   "source": [
    "import time\n",
    "import numpy as np\n",
    "\n",
    "def task_1b():\n",
    "    try:\n",
    "        n = int(input(\"Введіть число n: \"))\n",
    "        \n",
    "        start_time = time.time()\n",
    "        \n",
    "        matrix = np.diag(np.arange(1, n + 1), k=0)\n",
    "\n",
    "        print(matrix)\n",
    "        \n",
    "        end_time = time.time()\n",
    "        \n",
    "        execution_time = end_time - start_time\n",
    "        print(f\"Час виконання: {execution_time:.6f} секунд\")\n",
    "\n",
    "    except ValueError:\n",
    "        print(\"Помилка введення. Будь ласка, введіть ціле число.\")"
   ]
  },
  {
   "cell_type": "code",
   "execution_count": 10,
   "id": "f9561d44",
   "metadata": {},
   "outputs": [
    {
     "name": "stdout",
     "output_type": "stream",
     "text": [
      "Введіть число n: 12\n",
      "[[ 1  0  0  0  0  0  0  0  0  0  0  0]\n",
      " [ 0  2  0  0  0  0  0  0  0  0  0  0]\n",
      " [ 0  0  3  0  0  0  0  0  0  0  0  0]\n",
      " [ 0  0  0  4  0  0  0  0  0  0  0  0]\n",
      " [ 0  0  0  0  5  0  0  0  0  0  0  0]\n",
      " [ 0  0  0  0  0  6  0  0  0  0  0  0]\n",
      " [ 0  0  0  0  0  0  7  0  0  0  0  0]\n",
      " [ 0  0  0  0  0  0  0  8  0  0  0  0]\n",
      " [ 0  0  0  0  0  0  0  0  9  0  0  0]\n",
      " [ 0  0  0  0  0  0  0  0  0 10  0  0]\n",
      " [ 0  0  0  0  0  0  0  0  0  0 11  0]\n",
      " [ 0  0  0  0  0  0  0  0  0  0  0 12]]\n",
      "Час виконання: 0.004999 секунд\n"
     ]
    }
   ],
   "source": [
    "task_1b()"
   ]
  },
  {
   "cell_type": "markdown",
   "id": "b29a8665",
   "metadata": {},
   "source": [
    "<b>Аналізуючи час виконання, робимо висновок, що для даної задачі краще використовувати ітеративні конструкції аніж бібліотеку NumPy</b>"
   ]
  },
  {
   "cell_type": "markdown",
   "id": "b5a0e2d4",
   "metadata": {},
   "source": [
    "![](tasks/2.png)"
   ]
  },
  {
   "cell_type": "code",
   "execution_count": 11,
   "id": "8f4d097d",
   "metadata": {},
   "outputs": [],
   "source": [
    "import time\n",
    "\n",
    "def task_2a():\n",
    "    try:\n",
    "        n = int(input(\"Введіть число n: \"))\n",
    "        \n",
    "        start_time = time.time()\n",
    "        \n",
    "        matrix = [[0] * n for _ in range(n)]\n",
    "        for i in range(n):\n",
    "            for j in range(n):\n",
    "                if (i + j) % 2 != 0:\n",
    "                    matrix[i][j] = 1\n",
    "\n",
    "        for row in matrix:\n",
    "            print(row)\n",
    "        \n",
    "        end_time = time.time()\n",
    "        \n",
    "        execution_time = end_time - start_time\n",
    "        print(f\"Час виконання: {execution_time:.6f} секунд\")\n",
    "\n",
    "    except ValueError:\n",
    "        print(\"Помилка введення. Будь ласка, введіть ціле число.\")"
   ]
  },
  {
   "cell_type": "code",
   "execution_count": 15,
   "id": "f367675d",
   "metadata": {},
   "outputs": [
    {
     "name": "stdout",
     "output_type": "stream",
     "text": [
      "Введіть число n: 12\n",
      "[0, 1, 0, 1, 0, 1, 0, 1, 0, 1, 0, 1]\n",
      "[1, 0, 1, 0, 1, 0, 1, 0, 1, 0, 1, 0]\n",
      "[0, 1, 0, 1, 0, 1, 0, 1, 0, 1, 0, 1]\n",
      "[1, 0, 1, 0, 1, 0, 1, 0, 1, 0, 1, 0]\n",
      "[0, 1, 0, 1, 0, 1, 0, 1, 0, 1, 0, 1]\n",
      "[1, 0, 1, 0, 1, 0, 1, 0, 1, 0, 1, 0]\n",
      "[0, 1, 0, 1, 0, 1, 0, 1, 0, 1, 0, 1]\n",
      "[1, 0, 1, 0, 1, 0, 1, 0, 1, 0, 1, 0]\n",
      "[0, 1, 0, 1, 0, 1, 0, 1, 0, 1, 0, 1]\n",
      "[1, 0, 1, 0, 1, 0, 1, 0, 1, 0, 1, 0]\n",
      "[0, 1, 0, 1, 0, 1, 0, 1, 0, 1, 0, 1]\n",
      "[1, 0, 1, 0, 1, 0, 1, 0, 1, 0, 1, 0]\n",
      "Час виконання: 0.000000 секунд\n"
     ]
    }
   ],
   "source": [
    "task_2a()"
   ]
  },
  {
   "cell_type": "code",
   "execution_count": 13,
   "id": "71255a63",
   "metadata": {},
   "outputs": [],
   "source": [
    "import time\n",
    "import numpy as np\n",
    "\n",
    "def task_2b():\n",
    "    try:\n",
    "        n = int(input(\"Введіть число n: \"))\n",
    "        \n",
    "        start_time = time.time()\n",
    "        \n",
    "        matrix = np.zeros((n, n), dtype=int)\n",
    "        matrix[1::2, ::2] = 1\n",
    "        matrix[::2, 1::2] = 1\n",
    "\n",
    "        print(matrix)\n",
    "        \n",
    "        end_time = time.time()\n",
    "        \n",
    "        execution_time = end_time - start_time\n",
    "        print(f\"Час виконання: {execution_time:.6f} секунд\")\n",
    "\n",
    "    except ValueError:\n",
    "        print(\"Помилка введення. Будь ласка, введіть ціле число.\")"
   ]
  },
  {
   "cell_type": "code",
   "execution_count": 16,
   "id": "8d91edd2",
   "metadata": {},
   "outputs": [
    {
     "name": "stdout",
     "output_type": "stream",
     "text": [
      "Введіть число n: 12\n",
      "[[0 1 0 1 0 1 0 1 0 1 0 1]\n",
      " [1 0 1 0 1 0 1 0 1 0 1 0]\n",
      " [0 1 0 1 0 1 0 1 0 1 0 1]\n",
      " [1 0 1 0 1 0 1 0 1 0 1 0]\n",
      " [0 1 0 1 0 1 0 1 0 1 0 1]\n",
      " [1 0 1 0 1 0 1 0 1 0 1 0]\n",
      " [0 1 0 1 0 1 0 1 0 1 0 1]\n",
      " [1 0 1 0 1 0 1 0 1 0 1 0]\n",
      " [0 1 0 1 0 1 0 1 0 1 0 1]\n",
      " [1 0 1 0 1 0 1 0 1 0 1 0]\n",
      " [0 1 0 1 0 1 0 1 0 1 0 1]\n",
      " [1 0 1 0 1 0 1 0 1 0 1 0]]\n",
      "Час виконання: 0.001000 секунд\n"
     ]
    }
   ],
   "source": [
    "task_2b()"
   ]
  },
  {
   "cell_type": "markdown",
   "id": "2f125206",
   "metadata": {},
   "source": [
    "<b>Аналізуючи час виконання, робимо висновок, що для даної задачі краще використовувати ітеративні конструкції аніж бібліотеку NumPy</b>"
   ]
  },
  {
   "cell_type": "markdown",
   "id": "c139afba",
   "metadata": {},
   "source": [
    "![](tasks/5.png)"
   ]
  },
  {
   "cell_type": "code",
   "execution_count": 27,
   "id": "16b7c923",
   "metadata": {},
   "outputs": [],
   "source": [
    "def task_5a():\n",
    "    try:\n",
    "        n = int(input(\"Введіть число n: \"))\n",
    "        \n",
    "        start_time = time.time()\n",
    "        \n",
    "        array = [[1 if row_index % 2 == 0 else 1 for _ in range(n)] if row_index % 2 == 0 else [0 for _ in range(n)] for row_index in range(n)]\n",
    "\n",
    "        for row in array:\n",
    "            print(row)\n",
    "        \n",
    "        end_time = time.time()\n",
    "        \n",
    "        execution_time = end_time - start_time\n",
    "        print(f\"Час виконання: {execution_time:.6f} секунд\")\n",
    "\n",
    "    except ValueError:\n",
    "        print(\"Помилка введення. Будь ласка, введіть ціле число.\")"
   ]
  },
  {
   "cell_type": "code",
   "execution_count": 35,
   "id": "0a2b5442",
   "metadata": {},
   "outputs": [
    {
     "name": "stdout",
     "output_type": "stream",
     "text": [
      "Введіть число n: 20\n",
      "[1, 1, 1, 1, 1, 1, 1, 1, 1, 1, 1, 1, 1, 1, 1, 1, 1, 1, 1, 1]\n",
      "[0, 0, 0, 0, 0, 0, 0, 0, 0, 0, 0, 0, 0, 0, 0, 0, 0, 0, 0, 0]\n",
      "[1, 1, 1, 1, 1, 1, 1, 1, 1, 1, 1, 1, 1, 1, 1, 1, 1, 1, 1, 1]\n",
      "[0, 0, 0, 0, 0, 0, 0, 0, 0, 0, 0, 0, 0, 0, 0, 0, 0, 0, 0, 0]\n",
      "[1, 1, 1, 1, 1, 1, 1, 1, 1, 1, 1, 1, 1, 1, 1, 1, 1, 1, 1, 1]\n",
      "[0, 0, 0, 0, 0, 0, 0, 0, 0, 0, 0, 0, 0, 0, 0, 0, 0, 0, 0, 0]\n",
      "[1, 1, 1, 1, 1, 1, 1, 1, 1, 1, 1, 1, 1, 1, 1, 1, 1, 1, 1, 1]\n",
      "[0, 0, 0, 0, 0, 0, 0, 0, 0, 0, 0, 0, 0, 0, 0, 0, 0, 0, 0, 0]\n",
      "[1, 1, 1, 1, 1, 1, 1, 1, 1, 1, 1, 1, 1, 1, 1, 1, 1, 1, 1, 1]\n",
      "[0, 0, 0, 0, 0, 0, 0, 0, 0, 0, 0, 0, 0, 0, 0, 0, 0, 0, 0, 0]\n",
      "[1, 1, 1, 1, 1, 1, 1, 1, 1, 1, 1, 1, 1, 1, 1, 1, 1, 1, 1, 1]\n",
      "[0, 0, 0, 0, 0, 0, 0, 0, 0, 0, 0, 0, 0, 0, 0, 0, 0, 0, 0, 0]\n",
      "[1, 1, 1, 1, 1, 1, 1, 1, 1, 1, 1, 1, 1, 1, 1, 1, 1, 1, 1, 1]\n",
      "[0, 0, 0, 0, 0, 0, 0, 0, 0, 0, 0, 0, 0, 0, 0, 0, 0, 0, 0, 0]\n",
      "[1, 1, 1, 1, 1, 1, 1, 1, 1, 1, 1, 1, 1, 1, 1, 1, 1, 1, 1, 1]\n",
      "[0, 0, 0, 0, 0, 0, 0, 0, 0, 0, 0, 0, 0, 0, 0, 0, 0, 0, 0, 0]\n",
      "[1, 1, 1, 1, 1, 1, 1, 1, 1, 1, 1, 1, 1, 1, 1, 1, 1, 1, 1, 1]\n",
      "[0, 0, 0, 0, 0, 0, 0, 0, 0, 0, 0, 0, 0, 0, 0, 0, 0, 0, 0, 0]\n",
      "[1, 1, 1, 1, 1, 1, 1, 1, 1, 1, 1, 1, 1, 1, 1, 1, 1, 1, 1, 1]\n",
      "[0, 0, 0, 0, 0, 0, 0, 0, 0, 0, 0, 0, 0, 0, 0, 0, 0, 0, 0, 0]\n",
      "Час виконання: 0.000000 секунд\n"
     ]
    }
   ],
   "source": [
    "task_5a()"
   ]
  },
  {
   "cell_type": "code",
   "execution_count": 33,
   "id": "98f6fc7b",
   "metadata": {},
   "outputs": [],
   "source": [
    "import time\n",
    "import numpy as np\n",
    "\n",
    "def task_5b():\n",
    "    try:\n",
    "        n = int(input(\"Введіть число n: \"))\n",
    "        \n",
    "        start_time = time.time()\n",
    "        \n",
    "        array = np.zeros((n, n), dtype=int)\n",
    "        array[::2, :] = 1\n",
    "\n",
    "        print(array)\n",
    "        \n",
    "        end_time = time.time()\n",
    "        \n",
    "        execution_time = end_time - start_time\n",
    "        print(f\"Час виконання: {execution_time:.6f} секунд\")\n",
    "\n",
    "    except ValueError:\n",
    "        print(\"Помилка введення. Будь ласка, введіть ціле число.\")"
   ]
  },
  {
   "cell_type": "code",
   "execution_count": 36,
   "id": "b762bb47",
   "metadata": {},
   "outputs": [
    {
     "name": "stdout",
     "output_type": "stream",
     "text": [
      "Введіть число n: 20\n",
      "[[1 1 1 1 1 1 1 1 1 1 1 1 1 1 1 1 1 1 1 1]\n",
      " [0 0 0 0 0 0 0 0 0 0 0 0 0 0 0 0 0 0 0 0]\n",
      " [1 1 1 1 1 1 1 1 1 1 1 1 1 1 1 1 1 1 1 1]\n",
      " [0 0 0 0 0 0 0 0 0 0 0 0 0 0 0 0 0 0 0 0]\n",
      " [1 1 1 1 1 1 1 1 1 1 1 1 1 1 1 1 1 1 1 1]\n",
      " [0 0 0 0 0 0 0 0 0 0 0 0 0 0 0 0 0 0 0 0]\n",
      " [1 1 1 1 1 1 1 1 1 1 1 1 1 1 1 1 1 1 1 1]\n",
      " [0 0 0 0 0 0 0 0 0 0 0 0 0 0 0 0 0 0 0 0]\n",
      " [1 1 1 1 1 1 1 1 1 1 1 1 1 1 1 1 1 1 1 1]\n",
      " [0 0 0 0 0 0 0 0 0 0 0 0 0 0 0 0 0 0 0 0]\n",
      " [1 1 1 1 1 1 1 1 1 1 1 1 1 1 1 1 1 1 1 1]\n",
      " [0 0 0 0 0 0 0 0 0 0 0 0 0 0 0 0 0 0 0 0]\n",
      " [1 1 1 1 1 1 1 1 1 1 1 1 1 1 1 1 1 1 1 1]\n",
      " [0 0 0 0 0 0 0 0 0 0 0 0 0 0 0 0 0 0 0 0]\n",
      " [1 1 1 1 1 1 1 1 1 1 1 1 1 1 1 1 1 1 1 1]\n",
      " [0 0 0 0 0 0 0 0 0 0 0 0 0 0 0 0 0 0 0 0]\n",
      " [1 1 1 1 1 1 1 1 1 1 1 1 1 1 1 1 1 1 1 1]\n",
      " [0 0 0 0 0 0 0 0 0 0 0 0 0 0 0 0 0 0 0 0]\n",
      " [1 1 1 1 1 1 1 1 1 1 1 1 1 1 1 1 1 1 1 1]\n",
      " [0 0 0 0 0 0 0 0 0 0 0 0 0 0 0 0 0 0 0 0]]\n",
      "Час виконання: 0.001000 секунд\n"
     ]
    }
   ],
   "source": [
    "task_5b()"
   ]
  },
  {
   "cell_type": "markdown",
   "id": "c9715870",
   "metadata": {},
   "source": [
    "<b>Аналізуючи час виконання, робимо висновок, що для даної задачі краще використовувати ітеративні конструкції аніж бібліотеку NumPy</b>"
   ]
  },
  {
   "cell_type": "markdown",
   "id": "d40b893d",
   "metadata": {},
   "source": [
    "![](tasks/9.png)"
   ]
  },
  {
   "cell_type": "code",
   "execution_count": 37,
   "id": "7cae0fcf",
   "metadata": {},
   "outputs": [],
   "source": [
    "import time\n",
    "\n",
    "def task_9a():\n",
    "    try:\n",
    "        n = int(input(\"Введіть число n: \"))\n",
    "        \n",
    "        start_time = time.time()\n",
    "        \n",
    "        array = list(range(n, -1, -1))\n",
    "\n",
    "        print(array)\n",
    "        \n",
    "        end_time = time.time()\n",
    "        \n",
    "        execution_time = end_time - start_time\n",
    "        print(f\"Час виконання: {execution_time:.6f} секунд\")\n",
    "\n",
    "    except ValueError:\n",
    "        print(\"Помилка введення. Будь ласка, введіть ціле число.\")"
   ]
  },
  {
   "cell_type": "code",
   "execution_count": 46,
   "id": "d481d50c",
   "metadata": {},
   "outputs": [
    {
     "name": "stdout",
     "output_type": "stream",
     "text": [
      "Введіть число n: 400\n",
      "[400, 399, 398, 397, 396, 395, 394, 393, 392, 391, 390, 389, 388, 387, 386, 385, 384, 383, 382, 381, 380, 379, 378, 377, 376, 375, 374, 373, 372, 371, 370, 369, 368, 367, 366, 365, 364, 363, 362, 361, 360, 359, 358, 357, 356, 355, 354, 353, 352, 351, 350, 349, 348, 347, 346, 345, 344, 343, 342, 341, 340, 339, 338, 337, 336, 335, 334, 333, 332, 331, 330, 329, 328, 327, 326, 325, 324, 323, 322, 321, 320, 319, 318, 317, 316, 315, 314, 313, 312, 311, 310, 309, 308, 307, 306, 305, 304, 303, 302, 301, 300, 299, 298, 297, 296, 295, 294, 293, 292, 291, 290, 289, 288, 287, 286, 285, 284, 283, 282, 281, 280, 279, 278, 277, 276, 275, 274, 273, 272, 271, 270, 269, 268, 267, 266, 265, 264, 263, 262, 261, 260, 259, 258, 257, 256, 255, 254, 253, 252, 251, 250, 249, 248, 247, 246, 245, 244, 243, 242, 241, 240, 239, 238, 237, 236, 235, 234, 233, 232, 231, 230, 229, 228, 227, 226, 225, 224, 223, 222, 221, 220, 219, 218, 217, 216, 215, 214, 213, 212, 211, 210, 209, 208, 207, 206, 205, 204, 203, 202, 201, 200, 199, 198, 197, 196, 195, 194, 193, 192, 191, 190, 189, 188, 187, 186, 185, 184, 183, 182, 181, 180, 179, 178, 177, 176, 175, 174, 173, 172, 171, 170, 169, 168, 167, 166, 165, 164, 163, 162, 161, 160, 159, 158, 157, 156, 155, 154, 153, 152, 151, 150, 149, 148, 147, 146, 145, 144, 143, 142, 141, 140, 139, 138, 137, 136, 135, 134, 133, 132, 131, 130, 129, 128, 127, 126, 125, 124, 123, 122, 121, 120, 119, 118, 117, 116, 115, 114, 113, 112, 111, 110, 109, 108, 107, 106, 105, 104, 103, 102, 101, 100, 99, 98, 97, 96, 95, 94, 93, 92, 91, 90, 89, 88, 87, 86, 85, 84, 83, 82, 81, 80, 79, 78, 77, 76, 75, 74, 73, 72, 71, 70, 69, 68, 67, 66, 65, 64, 63, 62, 61, 60, 59, 58, 57, 56, 55, 54, 53, 52, 51, 50, 49, 48, 47, 46, 45, 44, 43, 42, 41, 40, 39, 38, 37, 36, 35, 34, 33, 32, 31, 30, 29, 28, 27, 26, 25, 24, 23, 22, 21, 20, 19, 18, 17, 16, 15, 14, 13, 12, 11, 10, 9, 8, 7, 6, 5, 4, 3, 2, 1, 0]\n",
      "Час виконання: 0.000000 секунд\n"
     ]
    }
   ],
   "source": [
    "task_9a()"
   ]
  },
  {
   "cell_type": "code",
   "execution_count": 40,
   "id": "3bdcb0ad",
   "metadata": {},
   "outputs": [],
   "source": [
    "import time\n",
    "import numpy as np\n",
    "\n",
    "def task_9b():\n",
    "    try:\n",
    "        n = int(input(\"Введіть число n: \"))\n",
    "        \n",
    "        start_time = time.time()\n",
    "        \n",
    "        array = np.arange(n, -1, -1)\n",
    "\n",
    "        print(array)\n",
    "        \n",
    "        end_time = time.time()\n",
    "        \n",
    "        execution_time = end_time - start_time\n",
    "        print(f\"Час виконання: {execution_time:.6f} секунд\")\n",
    "\n",
    "    except ValueError:\n",
    "        print(\"Помилка введення. Будь ласка, введіть ціле число.\")"
   ]
  },
  {
   "cell_type": "code",
   "execution_count": 47,
   "id": "cf675927",
   "metadata": {},
   "outputs": [
    {
     "name": "stdout",
     "output_type": "stream",
     "text": [
      "Введіть число n: 400\n",
      "[400 399 398 397 396 395 394 393 392 391 390 389 388 387 386 385 384 383\n",
      " 382 381 380 379 378 377 376 375 374 373 372 371 370 369 368 367 366 365\n",
      " 364 363 362 361 360 359 358 357 356 355 354 353 352 351 350 349 348 347\n",
      " 346 345 344 343 342 341 340 339 338 337 336 335 334 333 332 331 330 329\n",
      " 328 327 326 325 324 323 322 321 320 319 318 317 316 315 314 313 312 311\n",
      " 310 309 308 307 306 305 304 303 302 301 300 299 298 297 296 295 294 293\n",
      " 292 291 290 289 288 287 286 285 284 283 282 281 280 279 278 277 276 275\n",
      " 274 273 272 271 270 269 268 267 266 265 264 263 262 261 260 259 258 257\n",
      " 256 255 254 253 252 251 250 249 248 247 246 245 244 243 242 241 240 239\n",
      " 238 237 236 235 234 233 232 231 230 229 228 227 226 225 224 223 222 221\n",
      " 220 219 218 217 216 215 214 213 212 211 210 209 208 207 206 205 204 203\n",
      " 202 201 200 199 198 197 196 195 194 193 192 191 190 189 188 187 186 185\n",
      " 184 183 182 181 180 179 178 177 176 175 174 173 172 171 170 169 168 167\n",
      " 166 165 164 163 162 161 160 159 158 157 156 155 154 153 152 151 150 149\n",
      " 148 147 146 145 144 143 142 141 140 139 138 137 136 135 134 133 132 131\n",
      " 130 129 128 127 126 125 124 123 122 121 120 119 118 117 116 115 114 113\n",
      " 112 111 110 109 108 107 106 105 104 103 102 101 100  99  98  97  96  95\n",
      "  94  93  92  91  90  89  88  87  86  85  84  83  82  81  80  79  78  77\n",
      "  76  75  74  73  72  71  70  69  68  67  66  65  64  63  62  61  60  59\n",
      "  58  57  56  55  54  53  52  51  50  49  48  47  46  45  44  43  42  41\n",
      "  40  39  38  37  36  35  34  33  32  31  30  29  28  27  26  25  24  23\n",
      "  22  21  20  19  18  17  16  15  14  13  12  11  10   9   8   7   6   5\n",
      "   4   3   2   1   0]\n",
      "Час виконання: 0.001001 секунд\n"
     ]
    }
   ],
   "source": [
    "task_9b()"
   ]
  },
  {
   "cell_type": "markdown",
   "id": "54f1a3fa",
   "metadata": {},
   "source": [
    "<b>Аналізуючи час виконання, робимо висновок, що для даної задачі краще використовувати ітеративні конструкції аніж бібліотеку NumPy</b>"
   ]
  },
  {
   "cell_type": "markdown",
   "id": "0188cf77",
   "metadata": {},
   "source": [
    "![](tasks/10.png)"
   ]
  },
  {
   "cell_type": "code",
   "execution_count": 52,
   "id": "2b7954cd",
   "metadata": {},
   "outputs": [],
   "source": [
    "import time\n",
    "import random\n",
    "import math\n",
    "\n",
    "def task_10a():\n",
    "    try:\n",
    "        n = int(input(\"Введіть кількість рядків (n): \"))\n",
    "        m = int(input(\"Введіть кількість стовбців (m): \"))\n",
    "        \n",
    "        start_time = time.time()\n",
    "        \n",
    "        random_array = [[random.random() for _ in range(m)] for _ in range(n)]\n",
    "\n",
    "        min_value = min(min(row) for row in random_array)\n",
    "        max_value = max(max(row) for row in random_array)\n",
    "        mean_value = sum(sum(row) for row in random_array) / (n * m)\n",
    "        std_deviation = math.sqrt(sum((val - mean_value) ** 2 for row in random_array for val in row) / (n * m))\n",
    "\n",
    "        min_value = round(min_value, 3)\n",
    "        max_value = round(max_value, 3)\n",
    "        mean_value = round(mean_value, 3)\n",
    "        std_deviation = round(std_deviation, 3)\n",
    "\n",
    "        print(f\"Мінімальне значення: {min_value}\")\n",
    "        print(f\"Максимальне значення: {max_value}\")\n",
    "        print(f\"Середнє значення: {mean_value}\")\n",
    "        print(f\"Середньо квадратичне відхилення: {std_deviation}\")\n",
    "\n",
    "        end_time = time.time()\n",
    "        \n",
    "        execution_time = end_time - start_time\n",
    "        print(f\"Час виконання: {execution_time:.6f} секунд\")\n",
    "\n",
    "    except ValueError:\n",
    "        print(\"Помилка введення. Будь ласка, введіть цілі числа.\")"
   ]
  },
  {
   "cell_type": "code",
   "execution_count": 53,
   "id": "9b8212b7",
   "metadata": {},
   "outputs": [
    {
     "name": "stdout",
     "output_type": "stream",
     "text": [
      "Введіть кількість рядків (n): 4\n",
      "Введіть кількість стовбців (m): 5\n",
      "Мінімальне значення: 0.062\n",
      "Максимальне значення: 0.932\n",
      "Середнє значення: 0.609\n",
      "Середньо квадратичне відхилення: 0.288\n",
      "Час виконання: 0.000000 секунд\n"
     ]
    }
   ],
   "source": [
    "task_10a()"
   ]
  },
  {
   "cell_type": "code",
   "execution_count": 55,
   "id": "253490a0",
   "metadata": {},
   "outputs": [],
   "source": [
    "import time\n",
    "import numpy as np\n",
    "\n",
    "def task_10b():\n",
    "    try:\n",
    "        n = int(input(\"Введіть кількість рядків (n): \"))\n",
    "        m = int(input(\"Введіть кількість стовбців (m): \"))\n",
    "        \n",
    "        start_time = time.time()\n",
    "        \n",
    "        random_array = np.random.rand(n, m)\n",
    "\n",
    "        min_value = np.min(random_array)\n",
    "        max_value = np.max(random_array)\n",
    "        mean_value = np.mean(random_array)\n",
    "        std_deviation = np.std(random_array)\n",
    "\n",
    "        min_value = round(min_value, 3)\n",
    "        max_value = round(max_value, 3)\n",
    "        mean_value = round(mean_value, 3)\n",
    "        std_deviation = round(std_deviation, 3)\n",
    "\n",
    "        print(f\"Мінімальне значення: {min_value}\")\n",
    "        print(f\"Максимальне значення: {max_value}\")\n",
    "        print(f\"Середнє значення: {mean_value}\")\n",
    "        print(f\"Середньо квадратичне відхилення: {std_deviation}\")\n",
    "\n",
    "        end_time = time.time()\n",
    "        \n",
    "        execution_time = end_time - start_time\n",
    "        print(f\"Час виконання: {execution_time:.6f} секунд\")\n",
    "\n",
    "    except ValueError:\n",
    "        print(\"Помилка введення. Будь ласка, введіть цілі числа.\")"
   ]
  },
  {
   "cell_type": "code",
   "execution_count": 56,
   "id": "8ac41d8d",
   "metadata": {},
   "outputs": [
    {
     "name": "stdout",
     "output_type": "stream",
     "text": [
      "Введіть кількість рядків (n): 4\n",
      "Введіть кількість стовбців (m): 5\n",
      "Мінімальне значення: 0.031\n",
      "Максимальне значення: 0.999\n",
      "Середнє значення: 0.57\n",
      "Середньо квадратичне відхилення: 0.326\n",
      "Час виконання: 0.003999 секунд\n"
     ]
    }
   ],
   "source": [
    "task_10b()"
   ]
  },
  {
   "cell_type": "markdown",
   "id": "3ebd034f",
   "metadata": {},
   "source": [
    "<b>Аналізуючи час виконання, робимо висновок, що для даної задачі краще використовувати ітеративні конструкції аніж бібліотеку NumPy</b>"
   ]
  },
  {
   "cell_type": "markdown",
   "id": "2a16ffcb",
   "metadata": {},
   "source": [
    "![](tasks/13.png)"
   ]
  },
  {
   "cell_type": "code",
   "execution_count": 64,
   "id": "482838c6",
   "metadata": {},
   "outputs": [],
   "source": [
    "import time\n",
    "\n",
    "def task_13():\n",
    "        start_time = time.time()\n",
    "        \n",
    "        chessboard_matrix = [[0, 1] * 4, [1, 0] * 4] * 4\n",
    "\n",
    "        for row in chessboard_matrix:\n",
    "            print(row)\n",
    "\n",
    "        end_time = time.time()\n",
    "        \n",
    "        execution_time = end_time - start_time\n",
    "        print(f\"Час виконання: {execution_time:.6f} секунд\")"
   ]
  },
  {
   "cell_type": "code",
   "execution_count": 65,
   "id": "008e36cf",
   "metadata": {},
   "outputs": [
    {
     "name": "stdout",
     "output_type": "stream",
     "text": [
      "[0, 1, 0, 1, 0, 1, 0, 1]\n",
      "[1, 0, 1, 0, 1, 0, 1, 0]\n",
      "[0, 1, 0, 1, 0, 1, 0, 1]\n",
      "[1, 0, 1, 0, 1, 0, 1, 0]\n",
      "[0, 1, 0, 1, 0, 1, 0, 1]\n",
      "[1, 0, 1, 0, 1, 0, 1, 0]\n",
      "[0, 1, 0, 1, 0, 1, 0, 1]\n",
      "[1, 0, 1, 0, 1, 0, 1, 0]\n",
      "Час виконання: 0.001004 секунд\n"
     ]
    }
   ],
   "source": [
    "task_13()"
   ]
  },
  {
   "cell_type": "markdown",
   "id": "e051d606",
   "metadata": {},
   "source": [
    "![](tasks/15.png)"
   ]
  },
  {
   "cell_type": "code",
   "execution_count": 71,
   "id": "d9de490d",
   "metadata": {},
   "outputs": [],
   "source": [
    "import time\n",
    "\n",
    "def task_15a():\n",
    "    try:\n",
    "        n = int(input(\"Введіть розмір матриці (n): \"))\n",
    "        \n",
    "        start_time = time.time()\n",
    "        \n",
    "        matrix = [[1 if j % 2 != 0 else 0 for j in range(n)] for i in range(n)]\n",
    "\n",
    "        for row in matrix:\n",
    "            print(row)\n",
    "\n",
    "        end_time = time.time()\n",
    "        \n",
    "        execution_time = end_time - start_time\n",
    "        print(f\"Час виконання: {execution_time:.6f} секунд\")\n",
    "\n",
    "    except ValueError:\n",
    "        print(\"Помилка введення. Будь ласка, введіть ціле число.\")"
   ]
  },
  {
   "cell_type": "code",
   "execution_count": 72,
   "id": "c9ae1451",
   "metadata": {},
   "outputs": [
    {
     "name": "stdout",
     "output_type": "stream",
     "text": [
      "Введіть розмір матриці (n): 10\n",
      "[0, 1, 0, 1, 0, 1, 0, 1, 0, 1]\n",
      "[0, 1, 0, 1, 0, 1, 0, 1, 0, 1]\n",
      "[0, 1, 0, 1, 0, 1, 0, 1, 0, 1]\n",
      "[0, 1, 0, 1, 0, 1, 0, 1, 0, 1]\n",
      "[0, 1, 0, 1, 0, 1, 0, 1, 0, 1]\n",
      "[0, 1, 0, 1, 0, 1, 0, 1, 0, 1]\n",
      "[0, 1, 0, 1, 0, 1, 0, 1, 0, 1]\n",
      "[0, 1, 0, 1, 0, 1, 0, 1, 0, 1]\n",
      "[0, 1, 0, 1, 0, 1, 0, 1, 0, 1]\n",
      "[0, 1, 0, 1, 0, 1, 0, 1, 0, 1]\n",
      "Час виконання: 0.000000 секунд\n"
     ]
    }
   ],
   "source": [
    "task_15a()"
   ]
  },
  {
   "cell_type": "code",
   "execution_count": 73,
   "id": "04343b7e",
   "metadata": {},
   "outputs": [],
   "source": [
    "import time\n",
    "import numpy as np\n",
    "\n",
    "def task_15b():\n",
    "    try:\n",
    "        n = int(input(\"Введіть розмір матриці (n): \"))\n",
    "        \n",
    "        start_time = time.time()\n",
    "        \n",
    "        matrix = np.zeros((n, n), dtype=int)\n",
    "        matrix[:, 1::2] = 1\n",
    "\n",
    "        for row in matrix:\n",
    "            print(*row, sep=\", \")\n",
    "\n",
    "        end_time = time.time()\n",
    "        \n",
    "        execution_time = end_time - start_time\n",
    "        print(f\"Час виконання: {execution_time:.6f} секунд\")\n",
    "\n",
    "    except ValueError:\n",
    "        print(\"Помилка введення. Будь ласка, введіть ціле число.\")"
   ]
  },
  {
   "cell_type": "code",
   "execution_count": 74,
   "id": "c3e8385d",
   "metadata": {},
   "outputs": [
    {
     "name": "stdout",
     "output_type": "stream",
     "text": [
      "Введіть розмір матриці (n): 10\n",
      "0, 1, 0, 1, 0, 1, 0, 1, 0, 1\n",
      "0, 1, 0, 1, 0, 1, 0, 1, 0, 1\n",
      "0, 1, 0, 1, 0, 1, 0, 1, 0, 1\n",
      "0, 1, 0, 1, 0, 1, 0, 1, 0, 1\n",
      "0, 1, 0, 1, 0, 1, 0, 1, 0, 1\n",
      "0, 1, 0, 1, 0, 1, 0, 1, 0, 1\n",
      "0, 1, 0, 1, 0, 1, 0, 1, 0, 1\n",
      "0, 1, 0, 1, 0, 1, 0, 1, 0, 1\n",
      "0, 1, 0, 1, 0, 1, 0, 1, 0, 1\n",
      "0, 1, 0, 1, 0, 1, 0, 1, 0, 1\n",
      "Час виконання: 0.001000 секунд\n"
     ]
    }
   ],
   "source": [
    "task_15b()"
   ]
  },
  {
   "cell_type": "markdown",
   "id": "625e2f6e",
   "metadata": {},
   "source": [
    "<b>Аналізуючи час виконання, робимо висновок, що для даної задачі краще використовувати ітеративні конструкції аніж бібліотеку NumPy</b>"
   ]
  },
  {
   "cell_type": "markdown",
   "id": "2d58fc14",
   "metadata": {},
   "source": [
    "![](tasks/16.png)"
   ]
  },
  {
   "cell_type": "code",
   "execution_count": 77,
   "id": "a3acfde4",
   "metadata": {},
   "outputs": [],
   "source": [
    "import time\n",
    "\n",
    "def task_16a():\n",
    "    try:\n",
    "        n = int(input(\"Введіть ціле число n: \"))\n",
    "        \n",
    "        start_time = time.time()\n",
    "\n",
    "        vector = list(range(n+1))\n",
    "\n",
    "        vector = [0 if (val > n/4 and val < 3*n/4) else val for val in vector]\n",
    "\n",
    "        print(vector)\n",
    "\n",
    "        end_time = time.time()\n",
    "        \n",
    "        execution_time = end_time - start_time\n",
    "        print(f\"Час виконання: {execution_time:.6f} секунд\")\n",
    "\n",
    "    except ValueError:\n",
    "        print(\"Помилка введення. Будь ласка, введіть ціле число.\")"
   ]
  },
  {
   "cell_type": "code",
   "execution_count": 85,
   "id": "1a327a5b",
   "metadata": {},
   "outputs": [
    {
     "name": "stdout",
     "output_type": "stream",
     "text": [
      "Введіть ціле число n: 40\n",
      "[0, 1, 2, 3, 4, 5, 6, 7, 8, 9, 10, 0, 0, 0, 0, 0, 0, 0, 0, 0, 0, 0, 0, 0, 0, 0, 0, 0, 0, 0, 30, 31, 32, 33, 34, 35, 36, 37, 38, 39, 40]\n",
      "Час виконання: 0.000000 секунд\n"
     ]
    }
   ],
   "source": [
    "task_16a()"
   ]
  },
  {
   "cell_type": "code",
   "execution_count": 81,
   "id": "512e0448",
   "metadata": {},
   "outputs": [],
   "source": [
    "import time\n",
    "import numpy as np\n",
    "\n",
    "def task_16b():\n",
    "    try:\n",
    "        n = int(input(\"Введіть ціле число n: \"))\n",
    "        \n",
    "        start_time = time.time()\n",
    "\n",
    "        vector = np.arange(n+1)\n",
    "\n",
    "        vector[(vector > n/4) & (vector < 3*n/4)] = 0\n",
    "\n",
    "        print(vector)\n",
    "\n",
    "        end_time = time.time()\n",
    "        \n",
    "        execution_time = end_time - start_time\n",
    "        print(f\"Час виконання: {execution_time:.6f} секунд\")\n",
    "\n",
    "    except ValueError:\n",
    "        print(\"Помилка введення. Будь ласка, введіть ціле число.\")"
   ]
  },
  {
   "cell_type": "code",
   "execution_count": 86,
   "id": "9540c1d5",
   "metadata": {},
   "outputs": [
    {
     "name": "stdout",
     "output_type": "stream",
     "text": [
      "Введіть ціле число n: 40\n",
      "[ 0  1  2  3  4  5  6  7  8  9 10  0  0  0  0  0  0  0  0  0  0  0  0  0\n",
      "  0  0  0  0  0  0 30 31 32 33 34 35 36 37 38 39 40]\n",
      "Час виконання: 0.001000 секунд\n"
     ]
    }
   ],
   "source": [
    "task_16b()"
   ]
  },
  {
   "cell_type": "markdown",
   "id": "e0625715",
   "metadata": {},
   "source": [
    "<b>Аналізуючи час виконання, робимо висновок, що для даної задачі краще використовувати ітеративні конструкції аніж бібліотеку NumPy</b>"
   ]
  },
  {
   "cell_type": "markdown",
   "id": "b2c724a3",
   "metadata": {},
   "source": [
    "![](tasks/21.png)"
   ]
  },
  {
   "cell_type": "code",
   "execution_count": 87,
   "id": "3fd5e5fd",
   "metadata": {},
   "outputs": [],
   "source": [
    "def task_21a():\n",
    "    try:\n",
    "        n = int(input(\"Введіть розмір матриці n: \"))\n",
    "        m = int(input(\"Введіть максимальне значення m: \"))\n",
    "        \n",
    "        start_time = time.time()\n",
    "\n",
    "        matrix = [[random.randint(0, m) for _ in range(n)] for _ in range(n)]\n",
    "\n",
    "        max_value = max(max(row) for row in matrix)\n",
    "\n",
    "        for i in range(n):\n",
    "            for j in range(n):\n",
    "                if matrix[i][j] == max_value:\n",
    "                    matrix[i][j] *= -1\n",
    "\n",
    "        for row in matrix:\n",
    "            print(row)\n",
    "\n",
    "        end_time = time.time()\n",
    "        \n",
    "        execution_time = end_time - start_time\n",
    "        print(f\"Час виконання: {execution_time:.6f} секунд\")\n",
    "\n",
    "    except ValueError:\n",
    "        print(\"Помилка введення. Будь ласка, введіть цілі числа.\")"
   ]
  },
  {
   "cell_type": "code",
   "execution_count": 88,
   "id": "c6b4b964",
   "metadata": {},
   "outputs": [
    {
     "name": "stdout",
     "output_type": "stream",
     "text": [
      "Введіть розмір матриці n: 3\n",
      "Введіть максимальне значення m: 10\n",
      "[7, 3, 0]\n",
      "[2, -10, 0]\n",
      "[7, 5, 8]\n",
      "Час виконання: 0.000000 секунд\n"
     ]
    }
   ],
   "source": [
    "task_21a()"
   ]
  },
  {
   "cell_type": "code",
   "execution_count": 89,
   "id": "e265038c",
   "metadata": {},
   "outputs": [],
   "source": [
    "def task_21b():\n",
    "    try:\n",
    "        n = int(input(\"Введіть розмір матриці n: \"))\n",
    "        m = int(input(\"Введіть максимальне значення m: \"))\n",
    "        \n",
    "        start_time = time.time()\n",
    "\n",
    "        matrix = np.random.randint(0, m+1, size=(n, n))\n",
    "\n",
    "        max_value = np.max(matrix)\n",
    "\n",
    "        matrix[matrix == max_value] *= -1\n",
    "\n",
    "        print(matrix)\n",
    "\n",
    "        end_time = time.time()\n",
    "        \n",
    "        execution_time = end_time - start_time\n",
    "        print(f\"Час виконання: {execution_time:.6f} секунд\")\n",
    "\n",
    "    except ValueError:\n",
    "        print(\"Помилка введення. Будь ласка, введіть цілі числа.\")"
   ]
  },
  {
   "cell_type": "code",
   "execution_count": 90,
   "id": "05c288dc",
   "metadata": {},
   "outputs": [
    {
     "name": "stdout",
     "output_type": "stream",
     "text": [
      "Введіть розмір матриці n: 3\n",
      "Введіть максимальне значення m: 10\n",
      "[[ 1  3 -8]\n",
      " [ 2  7  6]\n",
      " [-8  1  2]]\n",
      "Час виконання: 0.001999 секунд\n"
     ]
    }
   ],
   "source": [
    "task_21b()"
   ]
  },
  {
   "cell_type": "markdown",
   "id": "f683aa5e",
   "metadata": {},
   "source": [
    "<b>Аналізуючи час виконання, робимо висновок, що для даної задачі краще використовувати ітеративні конструкції аніж бібліотеку NumPy</b>"
   ]
  },
  {
   "cell_type": "markdown",
   "id": "effa75db",
   "metadata": {},
   "source": [
    "![](tasks/2a.png)"
   ]
  },
  {
   "cell_type": "markdown",
   "id": "6a7008c6",
   "metadata": {},
   "source": [
    "![](tasks/2a1.png)"
   ]
  },
  {
   "cell_type": "code",
   "execution_count": 96,
   "id": "2612ff82",
   "metadata": {},
   "outputs": [],
   "source": [
    "import time\n",
    "import numpy as np\n",
    "\n",
    "def solve_system(matrix_A, vector_B):\n",
    "    # Знаходимо визначник матриці A\n",
    "    det_A = np.linalg.det(matrix_A)\n",
    "\n",
    "    solution = []\n",
    "\n",
    "    # Розв'язуємо систему за допомогою формул Крамера\n",
    "    for i in range(len(vector_B)):\n",
    "        temp_matrix = np.copy(matrix_A)\n",
    "\n",
    "        # Замінюємо i-тий стовпець на вектор B\n",
    "        temp_matrix[:, i] = vector_B\n",
    "\n",
    "        # Знаходимо визначник модифікованої матриці\n",
    "        det_temp = np.linalg.det(temp_matrix)\n",
    "\n",
    "        # Знаходимо i-й компонент розв'язку\n",
    "        solution.append(det_temp / det_A)\n",
    "\n",
    "    return np.array(solution)\n",
    "\n",
    "def check_solution(matrix_A, vector_B, solution):\n",
    "    # Перевіряємо розв'язок за допомогою матричного множення\n",
    "    result = np.dot(matrix_A, solution)\n",
    "\n",
    "    print(\"Перевірка розв'язку:\")\n",
    "    print(\"Матриця A * Розв'язок:\")\n",
    "    print(result)\n",
    "    print(\"Вектор B:\")\n",
    "    print(vector_B)\n",
    "\n",
    "def check_solution_inverse(matrix_A, vector_B, solution):\n",
    "    # Перевіряємо розв'язок за допомогою оберненої матриці\n",
    "    inverse_A = np.linalg.inv(matrix_A)\n",
    "    result_inverse = np.dot(inverse_A, vector_B)\n",
    "\n",
    "    print(\"Перевірка розв'язку за допомогою оберненої матриці:\")\n",
    "    print(\"Обернена матриця A:\")\n",
    "    print(inverse_A)\n",
    "    print(\"Обернена матриця A * Вектор B:\")\n",
    "    print(result_inverse)\n",
    "\n",
    "def check_solution_numpy_solve(matrix_A, vector_B):\n",
    "    # Перевіряємо розв'язок за допомогою функції numpy.linalg.solve()\n",
    "    result_solve = np.linalg.solve(matrix_A, vector_B)\n",
    "\n",
    "    print(\"Перевірка розв'язку за допомогою numpy.linalg.solve():\")\n",
    "    print(\"Розв'язок за допомогою solve():\")\n",
    "    print(result_solve)\n",
    "\n",
    "def compare_solutions(solution1, solution2, solution3):\n",
    "    # Порівнюємо всі розв'язки за допомогою numpy.allclose()\n",
    "    if np.allclose(solution1, solution2) and np.allclose(solution1, solution3):\n",
    "        print(\"Всі розв'язки ідентичні.\")\n",
    "    else:\n",
    "        print(\"Розв'язки відрізняються.\")\n",
    "\n",
    "def task_SLE():\n",
    "    try:\n",
    "        # Задаємо матрицю коефіцієнтів системи\n",
    "        matrix_A = np.array([\n",
    "            [2, -1, 1, -1],\n",
    "            [2, -1, 0, 3],\n",
    "            [3, 0, -1, 1],\n",
    "            [2, 2, -2, 5]\n",
    "        ], dtype=np.float64)\n",
    "\n",
    "        # Задаємо вектор вільних членів\n",
    "        vector_B = np.array([1, 2, -3, -6], dtype=np.float64)\n",
    "\n",
    "        start_time = time.time()\n",
    "\n",
    "        solution = solve_system(matrix_A, vector_B)\n",
    "\n",
    "        print(\"Розв'язок системи:\")\n",
    "        print(solution)\n",
    "\n",
    "        end_time = time.time()\n",
    "        \n",
    "        execution_time = end_time - start_time\n",
    "        print(f\"Час виконання: {execution_time:.6f} секунд\")\n",
    "\n",
    "        check_solution(matrix_A, vector_B, solution)\n",
    "\n",
    "        check_solution_inverse(matrix_A, vector_B, solution)\n",
    "\n",
    "        check_solution_numpy_solve(matrix_A, vector_B)\n",
    "\n",
    "        compare_solutions(solution, check_solution_inverse(matrix_A, vector_B, solution), check_solution_numpy_solve(matrix_A, vector_B))\n",
    "\n",
    "    except Exception as e:\n",
    "        print(f\"Помилка виконання: {str(e)}\")"
   ]
  },
  {
   "cell_type": "code",
   "execution_count": 98,
   "id": "c73e2b0c",
   "metadata": {},
   "outputs": [
    {
     "name": "stdout",
     "output_type": "stream",
     "text": [
      "Розв'язок системи:\n",
      "[-0.88888889 -2.44444444  0.77777778  0.44444444]\n",
      "Час виконання: 0.001001 секунд\n",
      "Перевірка розв'язку:\n",
      "Матриця A * Розв'язок:\n",
      "[ 1.  2. -3. -6.]\n",
      "Вектор B:\n",
      "[ 1.  2. -3. -6.]\n",
      "Перевірка розв'язку за допомогою оберненої матриці:\n",
      "Обернена матриця A:\n",
      "[[ 3.33333333e-01 -1.11111111e-01  1.11111111e-01  1.11111111e-01]\n",
      " [ 6.66666667e-01 -5.55555556e-01 -4.44444444e-01  5.55555556e-01]\n",
      " [ 1.00000000e+00 -1.11111111e-01 -8.88888889e-01  4.44444444e-01]\n",
      " [ 2.46716228e-17  2.22222222e-01 -2.22222222e-01  1.11111111e-01]]\n",
      "Обернена матриця A * Вектор B:\n",
      "[-0.88888889 -2.44444444  0.77777778  0.44444444]\n",
      "Перевірка розв'язку за допомогою numpy.linalg.solve():\n",
      "Розв'язок за допомогою solve():\n",
      "[-0.88888889 -2.44444444  0.77777778  0.44444444]\n",
      "Перевірка розв'язку за допомогою оберненої матриці:\n",
      "Обернена матриця A:\n",
      "[[ 3.33333333e-01 -1.11111111e-01  1.11111111e-01  1.11111111e-01]\n",
      " [ 6.66666667e-01 -5.55555556e-01 -4.44444444e-01  5.55555556e-01]\n",
      " [ 1.00000000e+00 -1.11111111e-01 -8.88888889e-01  4.44444444e-01]\n",
      " [ 2.46716228e-17  2.22222222e-01 -2.22222222e-01  1.11111111e-01]]\n",
      "Обернена матриця A * Вектор B:\n",
      "[-0.88888889 -2.44444444  0.77777778  0.44444444]\n",
      "Перевірка розв'язку за допомогою numpy.linalg.solve():\n",
      "Розв'язок за допомогою solve():\n",
      "[-0.88888889 -2.44444444  0.77777778  0.44444444]\n",
      "Помилка виконання: ufunc 'isfinite' not supported for the input types, and the inputs could not be safely coerced to any supported types according to the casting rule ''safe''\n"
     ]
    }
   ],
   "source": [
    "task_SLE()"
   ]
  },
  {
   "cell_type": "markdown",
   "id": "84c8eccb",
   "metadata": {},
   "source": [
    "![](tasks/3a.png)"
   ]
  },
  {
   "cell_type": "markdown",
   "id": "be6b2ed7",
   "metadata": {},
   "source": [
    "![](tasks/3a1.png)"
   ]
  },
  {
   "cell_type": "code",
   "execution_count": 129,
   "id": "61a07e5d",
   "metadata": {},
   "outputs": [],
   "source": [
    "def task_ME():\n",
    "    A = [[1, 0, 3],\n",
    "         [-2, 0, 1],\n",
    "         [-1, 3, 1]]\n",
    "\n",
    "    B = [[7, 5, 2],\n",
    "         [0, 1, 2],\n",
    "         [-3, -1, -1]]\n",
    "\n",
    "    start_time = time.time()\n",
    "    result = [[(2*A[i][j]-B[i][j])*(3*A[i][j]+B[i][j])-2*A[i][j]*B[i][j] for j in range(len(A[0]))] for i in range(len(A))]\n",
    "    end_time = time.time()\n",
    "\n",
    "    print(\"Execution time:\", end_time - start_time, \"seconds\")\n",
    "\n",
    "    print(result)"
   ]
  },
  {
   "cell_type": "code",
   "execution_count": 132,
   "id": "cf70a5d2",
   "metadata": {},
   "outputs": [
    {
     "name": "stdout",
     "output_type": "stream",
     "text": [
      "Result Matrix:\n",
      "[-43, -24, -8]\n",
      "[34, 29, 0]\n",
      "[22, 27, 3]\n",
      "\n",
      "Execution Time: 0.0 seconds\n"
     ]
    }
   ],
   "source": [
    "task_ME()"
   ]
  },
  {
   "cell_type": "code",
   "execution_count": 133,
   "id": "3612c674",
   "metadata": {},
   "outputs": [],
   "source": [
    "def task_ME_numpy():\n",
    "    A = np.array([[1, 0, 3],\n",
    "                   [-2, 0, 1],\n",
    "                   [-1, 3, 1]])\n",
    "\n",
    "    B = np.array([[7, 5, 2],\n",
    "                   [0, 1, 2],\n",
    "                   [-3, -1, -1]])\n",
    "\n",
    "    start_time = time.time()\n",
    "    result = (2*A - B) @ (3*A + B) - 2 * A @ B\n",
    "    end_time = time.time()\n",
    "\n",
    "    print(\"Execution time:\", end_time - start_time, \"seconds\")\n",
    "\n",
    "    print(result)"
   ]
  },
  {
   "cell_type": "code",
   "execution_count": 134,
   "id": "17a6fb92",
   "metadata": {},
   "outputs": [
    {
     "name": "stdout",
     "output_type": "stream",
     "text": [
      "Execution time: 0.0 seconds\n",
      "[[-40  -2 -70]\n",
      " [  0   1 -39]\n",
      " [-30  42  46]]\n"
     ]
    }
   ],
   "source": [
    "task_ME_numpy()"
   ]
  },
  {
   "cell_type": "markdown",
   "id": "ebd5301a",
   "metadata": {},
   "source": [
    "<b>Немає різниці виконання у часі, але є різниця у результатах обчислення</b>"
   ]
  },
  {
   "cell_type": "code",
   "execution_count": null,
   "id": "6a838826",
   "metadata": {},
   "outputs": [],
   "source": []
  }
 ],
 "metadata": {
  "kernelspec": {
   "display_name": "Python 3 (ipykernel)",
   "language": "python",
   "name": "python3"
  },
  "language_info": {
   "codemirror_mode": {
    "name": "ipython",
    "version": 3
   },
   "file_extension": ".py",
   "mimetype": "text/x-python",
   "name": "python",
   "nbconvert_exporter": "python",
   "pygments_lexer": "ipython3",
   "version": "3.11.5"
  }
 },
 "nbformat": 4,
 "nbformat_minor": 5
}
