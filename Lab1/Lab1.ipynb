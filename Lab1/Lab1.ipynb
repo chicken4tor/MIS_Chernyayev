{
 "cells": [
  {
   "cell_type": "code",
   "execution_count": null,
   "id": "86a840cb",
   "metadata": {},
   "outputs": [],
   "source": []
  },
  {
   "cell_type": "markdown",
   "id": "8a41be35",
   "metadata": {},
   "source": [
    "lab1 v6\n",
    "\n",
    "# Йорданія\n",
    "### Площина\n",
    "\n",
    "<b><span style=\"color: blue;\">`89 342 км²`</span></b>\n",
    "\n",
    "### Населення\n",
    "\n",
    "<b>`6,500,000`</b>\n",
    "\n",
    "### Видатні персоналії\n",
    "\n",
    "<i><span style=\"color: red;\">Абдалла ІІ бін аль-Хусейн</span></i> - король Йорданії з 1999 року. \n",
    "\n",
    "[фото](https://upload.wikimedia.org/wikipedia/commons/d/d9/King_Abdullah_II_%28cropped%29.jpg)\n",
    "\n",
    "\n",
    "### Державний устрій\n",
    "\n",
    "<i>Йорданія</i> - конституційна <span style=\"color: blue;\">монархія</span>, де монарх виступає як глава держави та вищий владар. Країна має парламентську систему, де законодавча влада зосереджена в Джорданському національному зборі. Влада поділена між монархом, який має обмежені повноваження, та парламентом, обраним громадянами Йорданії.\n",
    "\n",
    "### Пам'ятки культури\n",
    "\n",
    "<i>[Петра](https://uk.wikipedia.org/wiki/%D0%9F%D0%B5%D1%82%D1%80%D0%B0)</i> — стародавнє місто розташоване у долині Арави у каньйоні Сик, столиця древнього Едомського царства. Місто Петра є одним із чудес світу та внесене <b>ЮНЕСКО</b> до списку об'єктів світової спадщини. Місто століттями ретельно приховувалось жителями пустелі бедуїнами від чужого ока і було відкрите тільки на початку XIX століття швейцарським ученим Йоганном Людвігом Буркгардтом. На цей час є одним із найвідвідуваніших туристами місць у світі.\n",
    "\n",
    "### Природа\n",
    "\n",
    "Природа Йорданії різноманітна і включає в себе пустелі, гори, долини та багаті екосистеми. Найвражаючими природними об'єктами є ущелини річок, такі як <i>Ущелина Річки Йордан</i>, а також унікальне <i>Мертве море</i>, яке є найнижчою водоймою на Землі. Країна також славиться своїми природними заповідниками, які захищають біорізноманіття та природні резервати.\n",
    "\n",
    "#### Вкладений список\n",
    "- Пункт 1\n",
    "  - 1.1\n",
    "  - 1.2\n",
    "- Пункт 2\n",
    "  - 2.1\n",
    "  - 2.2\n",
    "  \n",
    "| Заголовок 1 | Заголовок 2 | Заголовок 3  |\n",
    "|-------------|-------------|--------------|\n",
    "| Комірка 1   | Комірка 2   | Комірка 3    |\n",
    "| Комірка 4   | Комірка 5   | Комірка 6    |\n",
    "| Комірка 7   | Комірка 8   | Комірка 9    |\n",
    "\n",
    "  \n",
    "  ![](https://upload.wikimedia.org/wikipedia/commons/thumb/c/c0/Flag_of_Jordan.svg/1920px-Flag_of_Jordan.svg.png)\n"
   ]
  },
  {
   "cell_type": "code",
   "execution_count": 40,
   "id": "c5c5a8a1",
   "metadata": {},
   "outputs": [
    {
     "data": {
      "image/svg+xml": [
       "<svg xmlns=\"http://www.w3.org/2000/svg\" width=\"600\" height=\"400\">\n",
       "    <!-- Черная полоса -->\n",
       "    <rect width=\"600\" height=\"133.33\" fill=\"#000000\"/>\n",
       "    \n",
       "    <!-- Белая полоса -->\n",
       "    <rect y=\"133.33\" width=\"600\" height=\"133.33\" fill=\"#FFFFFF\"/>\n",
       "    \n",
       "    <!-- Зеленая полоса -->\n",
       "    <rect y=\"266.66\" width=\"600\" height=\"133.34\" fill=\"#138808\"/>\n",
       "\n",
       "    <!-- Красный треугольник -->\n",
       "    <polygon points=\"0,0 0,400 300,200\" fill=\"#EA2C2A\"/>\n",
       "    \n",
       "    <polygon points=\"80,106.67 95.47,162.72 152.36,162.72 107.94,200.67 123.41,256.72 80,218.77 36.59,256.72 52.06,200.67 7.64,162.72 64.53,162.72\" fill=\"#FFFFFF\"/>\n",
       "</svg>"
      ],
      "text/plain": [
       "<IPython.core.display.SVG object>"
      ]
     },
     "metadata": {},
     "output_type": "display_data"
    }
   ],
   "source": [
    "from IPython.display import SVG, display\n",
    "\n",
    "svg_code = \"\"\"\n",
    "<svg xmlns=\"http://www.w3.org/2000/svg\" width=\"600\" height=\"400\">\n",
    "    <rect width=\"600\" height=\"133.33\" fill=\"#000000\"/>\n",
    "    \n",
    "    <rect y=\"133.33\" width=\"600\" height=\"133.33\" fill=\"#FFFFFF\"/>\n",
    "    \n",
    "    <rect y=\"266.66\" width=\"600\" height=\"133.34\" fill=\"#138808\"/>\n",
    "\n",
    "    <polygon points=\"0,0 0,400 300,200\" fill=\"#EA2C2A\"/>\n",
    "    \n",
    "    <polygon points=\"80,106.67 95.47,162.72 152.36,162.72 107.94,200.67 123.41,256.72 80,218.77 36.59,256.72 52.06,200.67 7.64,162.72 64.53,162.72\" fill=\"#FFFFFF\"/>\n",
    "</svg>\n",
    "\"\"\"\n",
    "\n",
    "display(SVG(svg_code))"
   ]
  },
  {
   "cell_type": "code",
   "execution_count": 45,
   "id": "bdf1b6ba",
   "metadata": {},
   "outputs": [
    {
     "name": "stdout",
     "output_type": "stream",
     "text": [
      "Введіть два цілих числа через пробіл: 2.1 5\n",
      "Помилка. Будьласка, введіть два цілих числа.\n"
     ]
    }
   ],
   "source": [
    "def is_prime(num):\n",
    "    \"\"\"Функція перевіряє чи є число простим\"\"\"\n",
    "    if num < 2:\n",
    "        return False\n",
    "    for i in range(2, int(num**0.5) + 1):\n",
    "        if num % i == 0:\n",
    "            return False\n",
    "    return True\n",
    "\n",
    "def task_6():\n",
    "    \"\"\"функція чекає ввід двух цілих чисел і виводить усі прості числа в інтервалі\"\"\"\n",
    "    try:\n",
    "        a, b = map(int, input(\"Введіть два цілих числа через пробіл: \").split())\n",
    "        primes = [num for num in range(a, b + 1) if is_prime(num)]\n",
    "        print(\"Прості числа в інтервалі [\", a, \", \", b, \"]:\", primes)\n",
    "    except ValueError:\n",
    "        print(\"Помилка. Будьласка, введіть два цілих числа.\")\n",
    "\n",
    "task_6()"
   ]
  },
  {
   "cell_type": "code",
   "execution_count": null,
   "id": "e105655e",
   "metadata": {},
   "outputs": [],
   "source": []
  }
 ],
 "metadata": {
  "kernelspec": {
   "display_name": "Python 3 (ipykernel)",
   "language": "python",
   "name": "python3"
  },
  "language_info": {
   "codemirror_mode": {
    "name": "ipython",
    "version": 3
   },
   "file_extension": ".py",
   "mimetype": "text/x-python",
   "name": "python",
   "nbconvert_exporter": "python",
   "pygments_lexer": "ipython3",
   "version": "3.11.5"
  }
 },
 "nbformat": 4,
 "nbformat_minor": 5
}
