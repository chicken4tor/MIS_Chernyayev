{
 "cells": [
  {
   "cell_type": "markdown",
   "id": "5e5e172a",
   "metadata": {},
   "source": [
    "Черняєв Андрій ІПС-42 \n"
   ]
  },
  {
   "cell_type": "code",
   "execution_count": 34,
   "id": "526466c4",
   "metadata": {},
   "outputs": [
    {
     "name": "stdout",
     "output_type": "stream",
     "text": [
      "   Unnamed: 0  Gender EthnicGroup          ParentEduc     LunchType TestPrep  \\\n",
      "0           0  female         NaN   bachelor's degree      standard     none   \n",
      "1           1  female     group C        some college      standard      NaN   \n",
      "2           2  female     group B     master's degree      standard     none   \n",
      "3           3    male     group A  associate's degree  free/reduced     none   \n",
      "4           4    male     group C        some college      standard     none   \n",
      "\n",
      "  ParentMaritalStatus PracticeSport IsFirstChild  NrSiblings TransportMeans  \\\n",
      "0             married     regularly          yes         3.0     school_bus   \n",
      "1             married     sometimes          yes         0.0            NaN   \n",
      "2              single     sometimes          yes         4.0     school_bus   \n",
      "3             married         never           no         1.0            NaN   \n",
      "4             married     sometimes          yes         0.0     school_bus   \n",
      "\n",
      "  WklyStudyHours  MathScore  ReadingScore  WritingScore  \n",
      "0            < 5         71            71            74  \n",
      "1         5 - 10         69            90            88  \n",
      "2            < 5         87            93            91  \n",
      "3         5 - 10         45            56            42  \n",
      "4         5 - 10         76            78            75  \n",
      "Кількість студентів у наборі даних: 30641\n",
      "Кількість студентів чоловічої статі у наборі даних: 15217\n",
      "Кількість студентів жіночої статі у наборі даних: 15424\n",
      "Відсоток студентів чоловічої статі у наборі даних: 49.66%\n",
      "Відсоток студентів жіночої статі у наборі даних: 50.34%\n"
     ]
    }
   ],
   "source": [
    "import pandas as pd\n",
    "from sklearn.ensemble import RandomForestClassifier\n",
    "from sklearn.metrics import accuracy_score, classification_report\n",
    "from sklearn.model_selection import train_test_split\n",
    "from sklearn.preprocessing import LabelEncoder\n",
    "\n",
    "# Завантаження даних з CSV-файлу\n",
    "df = pd.read_csv('Expanded_data_with_more_features.csv')\n",
    "\n",
    "# Виведення перших кількох рядків для перевірки\n",
    "print(df.head())\n",
    "\n",
    "# Кількість студентів і студенток у наборі даних\n",
    "total_students = df.shape[0]\n",
    "male_students = df[df['Gender'] == 'male'].shape[0]\n",
    "female_students = df[df['Gender'] == 'female'].shape[0]\n",
    "\n",
    "print(\"Кількість студентів у наборі даних:\", total_students)\n",
    "print(\"Кількість студентів чоловічої статі у наборі даних:\", male_students)\n",
    "print(\"Кількість студентів жіночої статі у наборі даних:\", female_students)\n",
    "\n",
    "# Відсоток студентів чоловічої та жіночої статі\n",
    "male_percentage = (male_students / total_students) * 100\n",
    "female_percentage = (female_students / total_students) * 100\n",
    "\n",
    "print(\"Відсоток студентів чоловічої статі у наборі даних: {:.2f}%\".format(male_percentage))\n",
    "print(\"Відсоток студентів жіночої статі у наборі даних: {:.2f}%\".format(female_percentage))\n"
   ]
  },
  {
   "cell_type": "code",
   "execution_count": 5,
   "id": "819079f4",
   "metadata": {},
   "outputs": [
    {
     "data": {
      "text/plain": [
       "'group E'"
      ]
     },
     "execution_count": 5,
     "metadata": {},
     "output_type": "execute_result"
    }
   ],
   "source": [
    "#Яка етнічна група має найвищий середній бал з математики?\n",
    "df.groupby(by=['EthnicGroup'])['MathScore'].mean().idxmax()"
   ]
  },
  {
   "cell_type": "code",
   "execution_count": 6,
   "id": "f97dcec6",
   "metadata": {},
   "outputs": [
    {
     "data": {
      "text/plain": [
       "'group E'"
      ]
     },
     "execution_count": 6,
     "metadata": {},
     "output_type": "execute_result"
    }
   ],
   "source": [
    "#Яка етнічна група має найвищий середній бал читання?\n",
    "df.groupby(by=['EthnicGroup'])['ReadingScore'].mean().idxmax()"
   ]
  },
  {
   "cell_type": "code",
   "execution_count": 7,
   "id": "2433bb5b",
   "metadata": {},
   "outputs": [
    {
     "data": {
      "text/plain": [
       "'group E'"
      ]
     },
     "execution_count": 7,
     "metadata": {},
     "output_type": "execute_result"
    }
   ],
   "source": [
    "#Яка етнічна група має найвищий середній бал з письма?\n",
    "df.groupby(by=['EthnicGroup'])['WritingScore'].mean().idxmax()"
   ]
  },
  {
   "cell_type": "code",
   "execution_count": 10,
   "id": "b1e957e5",
   "metadata": {},
   "outputs": [
    {
     "data": {
      "text/plain": [
       "69.5466599698644"
      ]
     },
     "execution_count": 10,
     "metadata": {},
     "output_type": "execute_result"
    }
   ],
   "source": [
    "#Який середній бал з математики для студентів, які закінчили курс підготовки до тесту?\n",
    "df[df['TestPrep'] == 'completed']['MathScore'].mean()"
   ]
  },
  {
   "cell_type": "code",
   "execution_count": 19,
   "id": "fa8dd19f",
   "metadata": {},
   "outputs": [
    {
     "data": {
      "text/plain": [
       "73.73299849321948"
      ]
     },
     "execution_count": 19,
     "metadata": {},
     "output_type": "execute_result"
    }
   ],
   "source": [
    "#Який середній бал з читання для студентів, які пройшли курс підготовки до тесту?\n",
    "df[df['TestPrep'] == 'completed']['ReadingScore'].mean()"
   ]
  },
  {
   "cell_type": "code",
   "execution_count": 20,
   "id": "d98ab064",
   "metadata": {},
   "outputs": [
    {
     "data": {
      "text/plain": [
       "72.66097438473129"
      ]
     },
     "execution_count": 20,
     "metadata": {},
     "output_type": "execute_result"
    }
   ],
   "source": [
    "#Який середній бал для студентів, які закінчили курс підготовки до тесту?\n",
    "df[df['TestPrep'] == 'completed'][['WritingScore', 'MathScore', 'ReadingScore']].mean(axis=1).mean()"
   ]
  },
  {
   "cell_type": "code",
   "execution_count": 21,
   "id": "f18ea471",
   "metadata": {},
   "outputs": [
    {
     "data": {
      "text/plain": [
       "16844"
      ]
     },
     "execution_count": 21,
     "metadata": {},
     "output_type": "execute_result"
    }
   ],
   "source": [
    "#Скільки студентів мають одружених батьків?\n",
    "df[df['ParentMaritalStatus'] == 'married'].shape[0]"
   ]
  },
  {
   "cell_type": "code",
   "execution_count": 22,
   "id": "58b8f9ac",
   "metadata": {},
   "outputs": [
    {
     "data": {
      "text/plain": [
       "7097"
      ]
     },
     "execution_count": 22,
     "metadata": {},
     "output_type": "execute_result"
    }
   ],
   "source": [
    "#Скільки студентів мають батьків-одинаків?\n",
    "df[df['ParentMaritalStatus'] == 'single'].shape[0]"
   ]
  },
  {
   "cell_type": "code",
   "execution_count": 23,
   "id": "3d16d357",
   "metadata": {},
   "outputs": [
    {
     "data": {
      "text/plain": [
       "(67.83915500787548, 64.17107892107892)"
      ]
     },
     "execution_count": 23,
     "metadata": {},
     "output_type": "execute_result"
    }
   ],
   "source": [
    "#Чи студенти, які регулярно займаються спортом, мають вищі середні результати \n",
    "#з математики, ніж ті, хто ніколи не займається спортом?\n",
    "df[df['PracticeSport'] == 'regularly']['MathScore'].mean(), df[df['PracticeSport'] == 'never']['MathScore'].mean()"
   ]
  },
  {
   "cell_type": "code",
   "execution_count": 24,
   "id": "ab003e36",
   "metadata": {},
   "outputs": [
    {
     "data": {
      "text/plain": [
       "(69.94301862318169, 68.33766233766234)"
      ]
     },
     "execution_count": 24,
     "metadata": {},
     "output_type": "execute_result"
    }
   ],
   "source": [
    "#Чи студенти, які регулярно займаються спортом, мають вищі середні результати \n",
    "#читання, ніж ті, хто ніколи не займається спортом?\n",
    "df[df['PracticeSport'] == 'regularly']['ReadingScore'].mean(), df[df['PracticeSport'] == 'never']['ReadingScore'].mean()"
   ]
  },
  {
   "cell_type": "code",
   "execution_count": 25,
   "id": "964f66f7",
   "metadata": {},
   "outputs": [
    {
     "data": {
      "text/plain": [
       "16145"
      ]
     },
     "execution_count": 25,
     "metadata": {},
     "output_type": "execute_result"
    }
   ],
   "source": [
    "#Скільки учнів користується шкільним автобусом, щоб дістатися до школи?\n",
    "df[df['TransportMeans'] == 'school_bus'].shape[0]"
   ]
  },
  {
   "cell_type": "code",
   "execution_count": 26,
   "id": "ad02651d",
   "metadata": {},
   "outputs": [
    {
     "data": {
      "text/plain": [
       "11362"
      ]
     },
     "execution_count": 26,
     "metadata": {},
     "output_type": "execute_result"
    }
   ],
   "source": [
    "#Скільки учнів користується приватним транспортом, щоб дістатися до школи?\n",
    "df[df['TransportMeans'] == 'private'].shape[0]"
   ]
  },
  {
   "cell_type": "code",
   "execution_count": 35,
   "id": "134da2b4",
   "metadata": {},
   "outputs": [
    {
     "name": "stdout",
     "output_type": "stream",
     "text": [
      "Accuracy: 0.730319563522993\n",
      "Classification Report:\n",
      "               precision    recall  f1-score   support\n",
      "\n",
      "   completed       0.68      0.42      0.52      1328\n",
      "        none       0.74      0.90      0.81      2521\n",
      "\n",
      "    accuracy                           0.73      3849\n",
      "   macro avg       0.71      0.66      0.66      3849\n",
      "weighted avg       0.72      0.73      0.71      3849\n",
      "\n"
     ]
    }
   ],
   "source": [
    "df = df.dropna()\n",
    "label_encoder = LabelEncoder()\n",
    "categorical_columns = ['Gender', 'EthnicGroup', 'ParentEduc', 'LunchType', 'ParentMaritalStatus', 'PracticeSport', 'IsFirstChild', 'TransportMeans', 'WklyStudyHours']\n",
    "\n",
    "for column in categorical_columns:\n",
    "    df[column] = label_encoder.fit_transform(df[column])\n",
    "    \n",
    "X = df.drop('TestPrep', axis=1)\n",
    "y = df['TestPrep']\n",
    "\n",
    "X_train, X_test, y_train, y_test = train_test_split(X, y, test_size=0.2, random_state=42)\n",
    "\n",
    "model = RandomForestClassifier(n_estimators=100, random_state=42)\n",
    "model.fit(X_train, y_train)\n",
    "\n",
    "y_pred = model.predict(X_test)\n",
    "\n",
    "accuracy = accuracy_score(y_test, y_pred)\n",
    "print(\"Accuracy:\", accuracy)\n",
    "\n",
    "report = classification_report(y_test, y_pred)\n",
    "print(\"Classification Report:\\n\", report)"
   ]
  },
  {
   "cell_type": "code",
   "execution_count": null,
   "id": "b9c3dd1b",
   "metadata": {},
   "outputs": [],
   "source": []
  }
 ],
 "metadata": {
  "kernelspec": {
   "display_name": "Python 3 (ipykernel)",
   "language": "python",
   "name": "python3"
  },
  "language_info": {
   "codemirror_mode": {
    "name": "ipython",
    "version": 3
   },
   "file_extension": ".py",
   "mimetype": "text/x-python",
   "name": "python",
   "nbconvert_exporter": "python",
   "pygments_lexer": "ipython3",
   "version": "3.11.5"
  }
 },
 "nbformat": 4,
 "nbformat_minor": 5
}
